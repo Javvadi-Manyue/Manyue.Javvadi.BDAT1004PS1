{
 "cells": [
  {
   "cell_type": "markdown",
   "id": "2e9f3734-2c4a-48ea-9eef-d017e80d50e7",
   "metadata": {},
   "source": [
    "**BDAT1004 - Problem Set 1    \n",
    "MANYUE JAVVADI 200575638**"
   ]
  },
  {
   "cell_type": "markdown",
   "id": "22ef8c42-de21-4584-8172-3f8cba361bfc",
   "metadata": {},
   "source": [
    "# Question 1\n",
    "<font color=\"#FF0000\">\n",
    "    \n",
    "**What data type is each of the following (evaluate where necessary)?**\n",
    "    \n",
    "</font>"
   ]
  },
  {
   "cell_type": "code",
   "execution_count": 22,
   "id": "c39bb453-80ec-4331-8661-e6efdbcaa163",
   "metadata": {
    "tags": []
   },
   "outputs": [
    {
     "name": "stdout",
     "output_type": "stream",
     "text": [
      "<class 'int'>\n",
      "<class 'float'>\n",
      "<class 'bool'>\n",
      "<class 'str'>\n",
      "<class 'int'>\n",
      "<class 'str'>\n",
      "<class 'str'>\n",
      "<class 'float'>\n",
      "<class 'int'>\n",
      "<class 'set'>\n",
      "<class 'bool'>\n",
      "<class 'float'>\n",
      "<class 'float'>\n"
     ]
    }
   ],
   "source": [
    "# This code will help us to know the data type \n",
    "print(type(5))\n",
    "print(type(5.0))\n",
    "print(type(5>1))\n",
    "print(type('5'))\n",
    "print(type(5*2))\n",
    "print(type('5'*2))\n",
    "print(type('5'+'2'))\n",
    "print(type(5/2))\n",
    "print(type(5%2))\n",
    "print(type({5,2,1}))\n",
    "print(type(5==3))\n",
    "pi = 3.141592653589793\n",
    "print(type(pi))"
   ]
  },
  {
   "cell_type": "markdown",
   "id": "94f7facd-fa17-4c6c-97f0-61945df25f91",
   "metadata": {},
   "source": [
    "# Question 2\n",
    "<font color=\"#FF0000\">\n",
    "\n",
    "**Write (and evaluate) python expressions that answer these questions:**\n",
    "\n",
    "**a. How many letters are there in 'Supercalifragilisticexpialidocious'?**\n",
    "    \n",
    "**b. Does 'Supercalifragilisticexpialidocious' contain 'ice' as a substring?**\n",
    "\n",
    "**c. Which of the following words is the longest: Supercalifragilisticexpialidocious, Honorificabilitudinitatibus, or** **Bababadalgharaghtakamminarronnkonn?**\n",
    "\n",
    "**d. Which composer comes first in the dictionary: 'Berlioz', 'Borodin', 'Brian', 'Bartok', 'Bellini', 'Buxtehude', 'Bernstein'. Which one comes last?**\n",
    "    \n",
    "</font>"
   ]
  },
  {
   "cell_type": "code",
   "execution_count": 25,
   "id": "b1291f82-4e2b-4a44-9d90-f86c50ac1b64",
   "metadata": {
    "tags": []
   },
   "outputs": [
    {
     "name": "stdout",
     "output_type": "stream",
     "text": [
      "Total number of letters present in 'Supercalifragilisticexpialidocious' are: 34\n",
      "\n",
      "'Supercalifragilisticexpialidocious' contains 'ice' as a substring\n",
      "\n",
      "Longest words from the list are: \n",
      "Supercalifragilisticexpialidocious\n",
      "Bababadalgharaghtakamminarronnkonn\n",
      "\n",
      "['Bartok', 'Bellini', 'Berlioz', 'Bernstein', 'Borodin', 'Brian', 'Buxtehude']\n",
      "The first composer in the dictionary: Bartok\n",
      "The last composer in the dictionary: Buxtehude\n"
     ]
    }
   ],
   "source": [
    "# a\n",
    "word1 = 'Supercalifragilisticexpialidocious'\n",
    "print(\"Total number of letters present in '{0}' are: {1}\\n\".format(word1, len(word1)))\n",
    "\n",
    "# b\n",
    "word2 = 'Supercalifragilisticexpialidocious'\n",
    "if 'ice' in word2:\n",
    "    print(\"'{0}' contains 'ice' as a substring\\n\".format(word2))\n",
    "else:\n",
    "    print(\"String does not contain 'ice' as a substring\\n\")\n",
    "\n",
    "#c\n",
    "word3 = [\"Supercalifragilisticexpialidocious\", \"Honorificabilitudinitatibus\",\"Bababadalgharaghtakamminarronnkonn\"]\n",
    "max = 0\n",
    "print(\"Longest words from the list are: \")\n",
    "for i in range(0,len(word3)):\n",
    "    if len(word3[i])>= max:\n",
    "        max = len(word3[i])\n",
    "        print(word3[i])       \n",
    "print()\n",
    "# d\n",
    "composers = ['Berlioz', 'Borodin', 'Brian', 'Bartok', 'Bellini', 'Buxtehude', 'Bernstein']\n",
    "composers.sort()\n",
    "first_composer = composers[0]\n",
    "last_composer = composers[-1]\n",
    "\n",
    "print(f\"The first composer in the dictionary: {first_composer}\")\n",
    "print(f\"The last composer in the dictionary: {last_composer}\")\n",
    "\n"
   ]
  },
  {
   "cell_type": "markdown",
   "id": "5861ed05-99c0-4429-892f-17d85b0ce003",
   "metadata": {
    "tags": []
   },
   "source": [
    "# Question 3   \n",
    "\n",
    "<font color=\"#FF0000\">\n",
    "\n",
    "**Implement function triangleArea(a,b,c) that takes as input the lengths of the 3 sides of a triangle and returns the area of the triangle.     \n",
    "By Heron's formula, the area of a triangle with side lengths a, b, and c is s(s - a)(s -b)(s -c), where s = (a+b+c)/2.**\n",
    "\n",
    "</font>"
   ]
  },
  {
   "cell_type": "code",
   "execution_count": 28,
   "id": "0da94d64-f7fd-4a1b-b8d0-5a7c8b490dfb",
   "metadata": {
    "tags": []
   },
   "outputs": [
    {
     "name": "stdout",
     "output_type": "stream",
     "text": [
      "The area of the triangle is: 1.7320508075688772\n"
     ]
    }
   ],
   "source": [
    "def triangleArea(a, b, c):\n",
    "    s = (a + b + c) / 2\n",
    "\n",
    "    # Calculate the area using Heron's formula\n",
    "    area = (s * (s - a) * (s - b) * (s - c)) ** 0.5\n",
    "    return area\n",
    "\n",
    "# calling function\n",
    "a = 2\n",
    "b = 2\n",
    "c = 2\n",
    "print(f\"The area of the triangle is: {triangleArea(a, b, c)}\")\n"
   ]
  },
  {
   "cell_type": "markdown",
   "id": "bff6f82b-60d4-414b-bea9-7fade59d02c1",
   "metadata": {},
   "source": [
    "# Question 4\n",
    "<font color=\"#FF0000\">\n",
    "\n",
    "**Write a program in python to separate odd and even integers in separate arrays**\n",
    "</font>\n"
   ]
  },
  {
   "cell_type": "code",
   "execution_count": 29,
   "id": "2ad704d3-d7e5-4fa0-b41a-5e088c8b3c0f",
   "metadata": {
    "tags": []
   },
   "outputs": [
    {
     "name": "stdin",
     "output_type": "stream",
     "text": [
      "Input the number of elements to be stored in the array:  5\n",
      "Input element 1:  56\n",
      "Input element 2:  45\n",
      "Input element 3:  34\n",
      "Input element 4:  2\n",
      "Input element 5:  3\n"
     ]
    },
    {
     "name": "stdout",
     "output_type": "stream",
     "text": [
      "Odd array: [45, 3]\n",
      "Even array: [56, 34, 2]\n"
     ]
    }
   ],
   "source": [
    "# Get the number of elements to be stored in the array\n",
    "n = int(input(\"Input the number of elements to be stored in the array: \"))\n",
    "\n",
    "odd = []\n",
    "even = []\n",
    "\n",
    "# Get the elements of the array\n",
    "for i in range(n):\n",
    "    num = int(input(f\"Input element {i+1}: \"))\n",
    "    if num % 2 == 0:\n",
    "        even.append(num)\n",
    "    else:\n",
    "        odd.append(num)\n",
    "\n",
    "print(\"Odd array:\", odd)\n",
    "print(\"Even array:\", even)\n"
   ]
  },
  {
   "cell_type": "markdown",
   "id": "633e2af4-a7da-441b-8258-ac50f7e3e5d1",
   "metadata": {},
   "source": [
    "# Question 5\n",
    "<font color=\"#FF0000\">\n",
    "\n",
    "**a. Write a function inside(x,y,x1,y1,x2,y2) that returns True or False depending on whether the    point (x,y) lies in the rectangle with lower left corner (x1,y1) and upper right corner (x2,y2).**\n",
    "\n",
    "**b. Use function inside() from part a. to write an expression that tests whether the point (1,1) lies in both of the following rectangles: one with lower left corner (0.3, 0.5) and upper right corner (1.1, 0.7) and the other with lower left corner (0.5, 0.2) and upper right corner (1.1, 2).**\n",
    "</font>"
   ]
  },
  {
   "cell_type": "code",
   "execution_count": 31,
   "id": "7916b507-c989-4823-a6e1-bc22600cd47d",
   "metadata": {
    "tags": []
   },
   "outputs": [
    {
     "name": "stdout",
     "output_type": "stream",
     "text": [
      "True\n",
      "False\n",
      "False\n",
      "True\n"
     ]
    }
   ],
   "source": [
    "# 5.a\n",
    "def inside(x, y, x1, y1, x2, y2):\n",
    "    return x1 <= x <= x2 and y1 <= y <= y2\n",
    "\n",
    "print(inside(1, 1, 0, 0, 2, 3))  # True\n",
    "print(inside(-1, -1, 0, 0, 2, 3))  # False\n",
    "\n",
    "# 5.b\n",
    "print(inside(1, 1, 0.3, 0.5, 1.1, 0.7))\n",
    "print(inside(1, 1, 0.5, 0.2, 1.1, 2))  # True or False\n"
   ]
  },
  {
   "cell_type": "markdown",
   "id": "d2b66f35-c9a2-4cc8-865c-8227721f57b1",
   "metadata": {},
   "source": [
    "# Question 6\n",
    "<font color=\"#FF0000\">\n",
    "\n",
    "**You can turn a word into pig-Latin using the following two rules (simplified):**\n",
    "- **If the word starts with a consonant, move that letter to the end and append 'ay'. For example, 'happy' becomes 'appyhay' and 'pencil' becomes 'encilpay'.**\n",
    "\n",
    "- **If the word starts with a vowel, simply append 'way' to the end of the word. For example, 'enter' becomes 'enterway' and 'other' becomes 'otherway' . For our purposes, there are 5 vowels: a, e, i, o, u (so we count y as a consonant).**\n",
    "\n",
    "**Write a function pig() that takes a word (i.e., a string) as input and returns its pigLatin form. Your function should still work if the input word contains upper case characters. Your output should always be lower case however.**\n",
    "</font>"
   ]
  },
  {
   "cell_type": "code",
   "execution_count": 33,
   "id": "c657dbcd-9852-4a6d-b8a2-b670d50ac9b7",
   "metadata": {
    "tags": []
   },
   "outputs": [
    {
     "name": "stdin",
     "output_type": "stream",
     "text": [
      "Enter a word:  happy\n"
     ]
    },
    {
     "name": "stdout",
     "output_type": "stream",
     "text": [
      "appyhay\n"
     ]
    }
   ],
   "source": [
    "def pig():\n",
    "    word = input(\"Enter a word: \")\n",
    "    word = word.lower()\n",
    "    if word[0] in 'aeiou':\n",
    "        return word + 'way'\n",
    "    else:\n",
    "        return word[1:] + word[0] + 'ay'\n",
    "\n",
    "# Test the function\n",
    "print(pig())  # User input required\n"
   ]
  },
  {
   "cell_type": "markdown",
   "id": "6c9f3790-3ba1-4455-9f3b-d4f31a2d07a8",
   "metadata": {},
   "source": [
    "# Question 7\n",
    "<font color=\"#FF0000\">\n",
    "    \n",
    "**File bloodtype1.txt records blood-types of patients (A, B, AB, O or OO) at a clinic. Write a function bldcount() that reads the file with name name and reports (i.e., prints) how many patients there are in each bloodtype.**\n",
    "</font>"
   ]
  },
  {
   "cell_type": "code",
   "execution_count": 10,
   "id": "f1f8d225-1fdb-449e-a3f2-a232fb67404a",
   "metadata": {
    "tags": []
   },
   "outputs": [
    {
     "name": "stdout",
     "output_type": "stream",
     "text": [
      "There are 15 patients of blood type A.\n",
      "There are 1 patients of blood type B.\n",
      "There are 13 patients of blood type AB.\n",
      "There are 15 patients of blood type O.\n",
      "There are 0 patients of blood type OO.\n"
     ]
    }
   ],
   "source": [
    "def bldcount_local(file_path):\n",
    "    # This will store the count of each blood type\n",
    "    blood_types = {'A': 0, 'B': 0, 'AB': 0, 'O': 0, 'OO': 0}\n",
    "\n",
    "    # Read the file line by line\n",
    "    with open(file_path, 'r') as file:\n",
    "        for line in file:\n",
    "            # Split the line into individual blood types\n",
    "            blood_types_in_line = line.strip().split()\n",
    "            \n",
    "           \n",
    "            for blood_type in blood_types_in_line:\n",
    "                blood_types[blood_type] += 1\n",
    "\n",
    "    \n",
    "    for blood_type, count in blood_types.items():\n",
    "        print(f\"There are {count} patients of blood type {blood_type}.\")\n",
    "\n",
    "\n",
    "local_file_path = r'D:\\Users\\manyue\\DataProgramming\\bloodtype1.txt'\n",
    "\n",
    "\n",
    "bldcount_local(local_file_path)\n",
    "\n"
   ]
  },
  {
   "cell_type": "markdown",
   "id": "e93869d8-75a7-4f4e-9521-c9b34366d9b6",
   "metadata": {},
   "source": [
    "# Question 8\n",
    "<font color=\"#FF0000\">\n",
    "    \n",
    "**Write a function curconv() that takes as input:**\n",
    "\n",
    "**a currency represented using a string (e.g., 'JPY' for the Japanese Yen or\n",
    "'EUR' for the Euro)**\n",
    "\n",
    "**an amount**\n",
    "**and then converts and returns the amount in US dollars.**\n",
    "</font>"
   ]
  },
  {
   "cell_type": "code",
   "execution_count": 17,
   "id": "3d60ab91-6dda-4a8a-a9b4-5c40a9d0c099",
   "metadata": {
    "tags": []
   },
   "outputs": [
    {
     "name": "stdout",
     "output_type": "stream",
     "text": [
      "122.96544\n",
      "1.241401\n"
     ]
    }
   ],
   "source": [
    "path = r'D:\\Users\\manyue\\DataProgramming\\currencies.txt'\n",
    "def curconv(currency, amount):\n",
    "    # Read currency rates from the file\n",
    "    currency_rates = {}\n",
    "    with open(path, 'r') as file:\n",
    "        for line in file:\n",
    "            parts = line.split()\n",
    "            currency_rates[parts[0]] = float(parts[1])\n",
    "\n",
    "    # Check if the provided currency is in the rates\n",
    "    if currency in currency_rates:\n",
    "        # Convert the amount to US dollars\n",
    "        us_dollars = amount * currency_rates[currency]\n",
    "        return us_dollars\n",
    "    else:\n",
    "        return f\"Currency code '{currency}' not found in the rates.\"\n",
    "\n",
    "\n",
    "result_eur = curconv('EUR', 100)\n",
    "result_jpy = curconv('JPY', 100)\n",
    "\n",
    "print(result_eur) \n",
    "print(result_jpy) \n"
   ]
  },
  {
   "cell_type": "markdown",
   "id": "7095b91e-656d-4d9e-8383-217c69323cae",
   "metadata": {},
   "source": [
    "# Question 9\n",
    "<font color=\"#FF0000\">\n",
    "    \n",
    "**Each of the following will cause an exception (an error). Identify what type of exception each will cause.**\n",
    "\n",
    "**9.1. Trying to add incompatible variables, as in adding 6 + ‘a’**\n",
    "\n",
    "**9.2. Referring to the 12th item of a list that has only 10 items**\n",
    "\n",
    "**9.3. Using a value that is out of range for a function’s input, such as calling math.sqrt(-1.0)**\n",
    "\n",
    "**9.4. Using an undeclared variable, such as print(x) when x has not been defined**\n",
    "\n",
    "9.5. Trying to open a file that does not exist, such as mistyping the file name or looking in the wrong directory**\n",
    "    \n",
    "</font>"
   ]
  },
  {
   "cell_type": "code",
   "execution_count": 40,
   "id": "3dc98bd6-21cc-4f57-925f-3f323b730754",
   "metadata": {
    "tags": []
   },
   "outputs": [
    {
     "ename": "TypeError",
     "evalue": "unsupported operand type(s) for +: 'int' and 'str'",
     "output_type": "error",
     "traceback": [
      "\u001b[1;31m---------------------------------------------------------------------------\u001b[0m",
      "\u001b[1;31mTypeError\u001b[0m                                 Traceback (most recent call last)",
      "Cell \u001b[1;32mIn[40], line 4\u001b[0m\n\u001b[0;32m      1\u001b[0m \u001b[38;5;124;03m'''9.1. Trying to add incompatible variables, as in adding 6 + ‘a’\u001b[39;00m\n\u001b[0;32m      2\u001b[0m \u001b[38;5;124;03mit will raise \"TypeError\".\u001b[39;00m\n\u001b[0;32m      3\u001b[0m \u001b[38;5;124;03mThe reason is we are trying to perform an operation that is not defined for those types of variables.'''\u001b[39;00m\n\u001b[1;32m----> 4\u001b[0m \u001b[38;5;28mprint\u001b[39m(\u001b[38;5;241m6\u001b[39m \u001b[38;5;241m+\u001b[39m \u001b[38;5;124m'\u001b[39m\u001b[38;5;124ma\u001b[39m\u001b[38;5;124m'\u001b[39m)\n",
      "\u001b[1;31mTypeError\u001b[0m: unsupported operand type(s) for +: 'int' and 'str'"
     ]
    }
   ],
   "source": [
    "'''9.1. Trying to add incompatible variables, as in adding 6 + ‘a’\n",
    "it will raise \"TypeError\".\n",
    "The reason is we are trying to perform an operation that is not defined for those types of variables.'''\n",
    "print(6 + 'a')\n"
   ]
  },
  {
   "cell_type": "code",
   "execution_count": 41,
   "id": "a11ae760-e3ea-40f7-ad5a-624327bfc984",
   "metadata": {
    "tags": []
   },
   "outputs": [
    {
     "ename": "IndexError",
     "evalue": "list index out of range",
     "output_type": "error",
     "traceback": [
      "\u001b[1;31m---------------------------------------------------------------------------\u001b[0m",
      "\u001b[1;31mIndexError\u001b[0m                                Traceback (most recent call last)",
      "Cell \u001b[1;32mIn[41], line 3\u001b[0m\n\u001b[0;32m      1\u001b[0m \u001b[38;5;66;03m# 9.2 If we try to access an element that is beyond the index len in a list, such as below scenario, it will raise an \"IndexError\"\u001b[39;00m\n\u001b[0;32m      2\u001b[0m Lst \u001b[38;5;241m=\u001b[39m [\u001b[38;5;241m1\u001b[39m,\u001b[38;5;241m2\u001b[39m,\u001b[38;5;241m3\u001b[39m,\u001b[38;5;241m4\u001b[39m,\u001b[38;5;241m5\u001b[39m,\u001b[38;5;241m6\u001b[39m,\u001b[38;5;241m7\u001b[39m,\u001b[38;5;241m8\u001b[39m,\u001b[38;5;241m9\u001b[39m,\u001b[38;5;241m10\u001b[39m]\n\u001b[1;32m----> 3\u001b[0m \u001b[38;5;28mprint\u001b[39m(Lst[\u001b[38;5;241m11\u001b[39m])\n",
      "\u001b[1;31mIndexError\u001b[0m: list index out of range"
     ]
    }
   ],
   "source": [
    "# 9.2 \"index out of range\" - it will come when you are trying to access the element through index but that index is not there . may be the entered \n",
    "#is beyond the range. \n",
    "Lst = [1,2,3,4,5,6,7,8,9,10]\n",
    "print(Lst[11])"
   ]
  },
  {
   "cell_type": "code",
   "execution_count": 18,
   "id": "b6a51bdc-2938-4b02-b13d-0e47544409f4",
   "metadata": {
    "tags": []
   },
   "outputs": [
    {
     "ename": "ValueError",
     "evalue": "math domain error",
     "output_type": "error",
     "traceback": [
      "\u001b[1;31m---------------------------------------------------------------------------\u001b[0m",
      "\u001b[1;31mValueError\u001b[0m                                Traceback (most recent call last)",
      "Cell \u001b[1;32mIn[18], line 4\u001b[0m\n\u001b[0;32m      1\u001b[0m \u001b[38;5;66;03m#9.3 Using a value that is out of range for function's input,\u001b[39;00m\n\u001b[0;32m      2\u001b[0m \u001b[38;5;66;03m#such as attempting to calculate the square root of a negative number will raise a \"ValueError\".\u001b[39;00m\n\u001b[0;32m      3\u001b[0m \u001b[38;5;28;01mimport\u001b[39;00m \u001b[38;5;21;01mmath\u001b[39;00m\n\u001b[1;32m----> 4\u001b[0m \u001b[38;5;28mprint\u001b[39m(math\u001b[38;5;241m.\u001b[39msqrt(\u001b[38;5;241m-\u001b[39m\u001b[38;5;241m1\u001b[39m))\n",
      "\u001b[1;31mValueError\u001b[0m: math domain error"
     ]
    }
   ],
   "source": [
    "#9.3 Using a value that is out of range for function's input,\n",
    "#such as attempting to calculate the square root of a negative number will raise a \"ValueError\".\n",
    "import math\n",
    "print(math.sqrt(-1))"
   ]
  },
  {
   "cell_type": "code",
   "execution_count": 19,
   "id": "5f9ef3fa-3bff-496b-8ef9-8582e4ebe1be",
   "metadata": {
    "tags": []
   },
   "outputs": [
    {
     "ename": "NameError",
     "evalue": "name 'x' is not defined",
     "output_type": "error",
     "traceback": [
      "\u001b[1;31m---------------------------------------------------------------------------\u001b[0m",
      "\u001b[1;31mNameError\u001b[0m                                 Traceback (most recent call last)",
      "Cell \u001b[1;32mIn[19], line 2\u001b[0m\n\u001b[0;32m      1\u001b[0m \u001b[38;5;66;03m#9.4 variable X not declared before printing x, then it will raise a \"NameError\".\u001b[39;00m\n\u001b[1;32m----> 2\u001b[0m \u001b[38;5;28mprint\u001b[39m(x)\n",
      "\u001b[1;31mNameError\u001b[0m: name 'x' is not defined"
     ]
    }
   ],
   "source": [
    "#9.4 variable X not declared before printing x, then it will raise a \"NameError\".\n",
    "print(x)"
   ]
  },
  {
   "cell_type": "code",
   "execution_count": 20,
   "id": "b4d885eb-c704-4065-aa1d-5512e3651e4b",
   "metadata": {
    "tags": []
   },
   "outputs": [
    {
     "ename": "FileNotFoundError",
     "evalue": "[Errno 2] No such file or directory: 'nofile.txt'",
     "output_type": "error",
     "traceback": [
      "\u001b[1;31m---------------------------------------------------------------------------\u001b[0m",
      "\u001b[1;31mFileNotFoundError\u001b[0m                         Traceback (most recent call last)",
      "Cell \u001b[1;32mIn[20], line 2\u001b[0m\n\u001b[0;32m      1\u001b[0m \u001b[38;5;66;03m#9.5 Trying to open a file that does not exist, such as mistyping the file name or looking in the wrong directory, will raise a \"FileNotFoundError\".\u001b[39;00m\n\u001b[1;32m----> 2\u001b[0m f \u001b[38;5;241m=\u001b[39m \u001b[38;5;28mopen\u001b[39m(\u001b[38;5;124m'\u001b[39m\u001b[38;5;124mnofile.txt\u001b[39m\u001b[38;5;124m'\u001b[39m)\n",
      "File \u001b[1;32mC:\\ProgramData\\anaconda3\\Lib\\site-packages\\IPython\\core\\interactiveshell.py:286\u001b[0m, in \u001b[0;36m_modified_open\u001b[1;34m(file, *args, **kwargs)\u001b[0m\n\u001b[0;32m    279\u001b[0m \u001b[38;5;28;01mif\u001b[39;00m file \u001b[38;5;129;01min\u001b[39;00m {\u001b[38;5;241m0\u001b[39m, \u001b[38;5;241m1\u001b[39m, \u001b[38;5;241m2\u001b[39m}:\n\u001b[0;32m    280\u001b[0m     \u001b[38;5;28;01mraise\u001b[39;00m \u001b[38;5;167;01mValueError\u001b[39;00m(\n\u001b[0;32m    281\u001b[0m         \u001b[38;5;124mf\u001b[39m\u001b[38;5;124m\"\u001b[39m\u001b[38;5;124mIPython won\u001b[39m\u001b[38;5;124m'\u001b[39m\u001b[38;5;124mt let you open fd=\u001b[39m\u001b[38;5;132;01m{\u001b[39;00mfile\u001b[38;5;132;01m}\u001b[39;00m\u001b[38;5;124m by default \u001b[39m\u001b[38;5;124m\"\u001b[39m\n\u001b[0;32m    282\u001b[0m         \u001b[38;5;124m\"\u001b[39m\u001b[38;5;124mas it is likely to crash IPython. If you know what you are doing, \u001b[39m\u001b[38;5;124m\"\u001b[39m\n\u001b[0;32m    283\u001b[0m         \u001b[38;5;124m\"\u001b[39m\u001b[38;5;124myou can use builtins\u001b[39m\u001b[38;5;124m'\u001b[39m\u001b[38;5;124m open.\u001b[39m\u001b[38;5;124m\"\u001b[39m\n\u001b[0;32m    284\u001b[0m     )\n\u001b[1;32m--> 286\u001b[0m \u001b[38;5;28;01mreturn\u001b[39;00m io_open(file, \u001b[38;5;241m*\u001b[39margs, \u001b[38;5;241m*\u001b[39m\u001b[38;5;241m*\u001b[39mkwargs)\n",
      "\u001b[1;31mFileNotFoundError\u001b[0m: [Errno 2] No such file or directory: 'nofile.txt'"
     ]
    }
   ],
   "source": [
    "#9.5 \"FileNotFoundError\" will raise when you gave wrong path or when you mispelled name.\n",
    "f = open('nofile.txt')"
   ]
  },
  {
   "cell_type": "markdown",
   "id": "b54afda9-8630-43ee-8424-1d19de67c37d",
   "metadata": {},
   "source": [
    "# Question 10\n",
    "Assume that the string letters is already defined as 'abcdefghijklmnopqrstuvwxyz'. \n",
    "\n",
    "> Write a function called frequencies() that takes a string as its onlprint(6 + 'a')y parameter, and returns a list of integers, showing the number of times each character appears in the text. Your function may ignore any characters that are not in letters."
   ]
  },
  {
   "cell_type": "code",
   "execution_count": 35,
   "id": "8e2b0e94-3d19-4db0-bf5f-db2409b937b0",
   "metadata": {
    "tags": []
   },
   "outputs": [
    {
     "name": "stdout",
     "output_type": "stream",
     "text": [
      "[0, 0, 0, 1, 1, 0, 0, 1, 0, 0, 0, 3, 0, 0, 2, 0, 0, 1, 0, 0, 0, 0, 1, 0, 0, 0]\n",
      "[1, 1, 1, 3, 5, 1, 1, 2, 1, 0, 1, 0, 1, 2, 4, 0, 1, 2, 0, 3, 1, 0, 1, 1, 0, 0]\n"
     ]
    }
   ],
   "source": [
    "def frequencies(text):\n",
    "    letters = 'abcdefghijklmnopqrstuvwxyz'\n",
    "    freq = [0]*26\n",
    "    for char in text.lower():\n",
    "        if char in letters:\n",
    "            index = letters.index(char)\n",
    "            freq[index] += 1\n",
    "    return freq\n",
    "\n",
    "# Test the function\n",
    "text = \"hello world\"\n",
    "print(frequencies(text))\n",
    "\n",
    "print(frequencies('The quick red fox got bored and went home 1'))\n"
   ]
  }
 ],
 "metadata": {
  "kernelspec": {
   "display_name": "Python 3 (ipykernel)",
   "language": "python",
   "name": "python3"
  },
  "language_info": {
   "codemirror_mode": {
    "name": "ipython",
    "version": 3
   },
   "file_extension": ".py",
   "mimetype": "text/x-python",
   "name": "python",
   "nbconvert_exporter": "python",
   "pygments_lexer": "ipython3",
   "version": "3.11.5"
  }
 },
 "nbformat": 4,
 "nbformat_minor": 5
}
